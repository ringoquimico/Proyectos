{
 "cells": [
  {
   "cell_type": "markdown",
   "id": "70ea310e",
   "metadata": {},
   "source": [
    "# RSF AGENCY SKILL TEST\n",
    "\n",
    "## Section 1: General Data Analysis\n",
    "\n",
    "*data source:* https://raw.githubusercontent.com/ringoquimico/Proyectos/refs/heads/main/AM3%20TEST/01_test_B/00_data_sources/model_performance_raw.csv\n"
   ]
  },
  {
   "cell_type": "markdown",
   "id": "317b2349",
   "metadata": {},
   "source": [
    "### 1. LIBRARIES"
   ]
  },
  {
   "cell_type": "code",
   "execution_count": 33,
   "id": "26713e1d",
   "metadata": {},
   "outputs": [],
   "source": [
    "import pandas as pd\n",
    "import numpy as np\n",
    "import matplotlib.pyplot as plt\n",
    "from scipy.stats import ttest_ind"
   ]
  },
  {
   "cell_type": "markdown",
   "id": "d1f0f515",
   "metadata": {},
   "source": [
    "### 2. DATA SOURCE"
   ]
  },
  {
   "cell_type": "code",
   "execution_count": null,
   "id": "82129a79",
   "metadata": {},
   "outputs": [
    {
     "data": {
      "application/vnd.microsoft.datawrangler.viewer.v0+json": {
       "columns": [
        {
         "name": "index",
         "rawType": "int64",
         "type": "integer"
        },
        {
         "name": "Date",
         "rawType": "object",
         "type": "string"
        },
        {
         "name": "Model Name",
         "rawType": "object",
         "type": "string"
        },
        {
         "name": "Net Sales",
         "rawType": "object",
         "type": "string"
        },
        {
         "name": "Fans Gained",
         "rawType": "float64",
         "type": "float"
        },
        {
         "name": "Agency",
         "rawType": "object",
         "type": "string"
        }
       ],
       "ref": "cb279bb6-ebb8-48b1-a033-b9ea7d51b85e",
       "rows": [
        [
         "0",
         "2025-01-01",
         "Model 15",
         "$3,804.19",
         "535.0",
         "R"
        ],
        [
         "1",
         "2025-01-01",
         "Model 5",
         "$2,098.22",
         "169.0",
         "R"
        ],
        [
         "2",
         "2025-01-01",
         "Model 6",
         "$1,984.68",
         "349.0",
         "R"
        ],
        [
         "3",
         "2025-01-01",
         "Model 9",
         "$115.94",
         "28.0",
         "R"
        ],
        [
         "4",
         "2025-01-01",
         "Model 10",
         "$766.83",
         "120.0",
         "R"
        ]
       ],
       "shape": {
        "columns": 5,
        "rows": 5
       }
      },
      "text/html": [
       "<div>\n",
       "<style scoped>\n",
       "    .dataframe tbody tr th:only-of-type {\n",
       "        vertical-align: middle;\n",
       "    }\n",
       "\n",
       "    .dataframe tbody tr th {\n",
       "        vertical-align: top;\n",
       "    }\n",
       "\n",
       "    .dataframe thead th {\n",
       "        text-align: right;\n",
       "    }\n",
       "</style>\n",
       "<table border=\"1\" class=\"dataframe\">\n",
       "  <thead>\n",
       "    <tr style=\"text-align: right;\">\n",
       "      <th></th>\n",
       "      <th>Date</th>\n",
       "      <th>Model Name</th>\n",
       "      <th>Net Sales</th>\n",
       "      <th>Fans Gained</th>\n",
       "      <th>Agency</th>\n",
       "    </tr>\n",
       "  </thead>\n",
       "  <tbody>\n",
       "    <tr>\n",
       "      <th>0</th>\n",
       "      <td>2025-01-01</td>\n",
       "      <td>Model 15</td>\n",
       "      <td>$3,804.19</td>\n",
       "      <td>535.0</td>\n",
       "      <td>R</td>\n",
       "    </tr>\n",
       "    <tr>\n",
       "      <th>1</th>\n",
       "      <td>2025-01-01</td>\n",
       "      <td>Model 5</td>\n",
       "      <td>$2,098.22</td>\n",
       "      <td>169.0</td>\n",
       "      <td>R</td>\n",
       "    </tr>\n",
       "    <tr>\n",
       "      <th>2</th>\n",
       "      <td>2025-01-01</td>\n",
       "      <td>Model 6</td>\n",
       "      <td>$1,984.68</td>\n",
       "      <td>349.0</td>\n",
       "      <td>R</td>\n",
       "    </tr>\n",
       "    <tr>\n",
       "      <th>3</th>\n",
       "      <td>2025-01-01</td>\n",
       "      <td>Model 9</td>\n",
       "      <td>$115.94</td>\n",
       "      <td>28.0</td>\n",
       "      <td>R</td>\n",
       "    </tr>\n",
       "    <tr>\n",
       "      <th>4</th>\n",
       "      <td>2025-01-01</td>\n",
       "      <td>Model 10</td>\n",
       "      <td>$766.83</td>\n",
       "      <td>120.0</td>\n",
       "      <td>R</td>\n",
       "    </tr>\n",
       "  </tbody>\n",
       "</table>\n",
       "</div>"
      ],
      "text/plain": [
       "         Date Model Name  Net Sales  Fans Gained Agency\n",
       "0  2025-01-01   Model 15  $3,804.19        535.0      R\n",
       "1  2025-01-01    Model 5  $2,098.22        169.0      R\n",
       "2  2025-01-01    Model 6  $1,984.68        349.0      R\n",
       "3  2025-01-01    Model 9    $115.94         28.0      R\n",
       "4  2025-01-01   Model 10    $766.83        120.0      R"
      ]
     },
     "execution_count": 34,
     "metadata": {},
     "output_type": "execute_result"
    }
   ],
   "source": [
    "df = pd.read_csv(\"https://raw.githubusercontent.com/ringoquimico/Proyectos/refs/heads/main/AM3%20TEST/01_test_B/00_data_sources/model_performance_raw.csv\", sep=';', thousands=',', decimal='.')\n",
    "df.head()"
   ]
  },
  {
   "cell_type": "markdown",
   "id": "a388cb3d",
   "metadata": {},
   "source": [
    "### 3. DATA CLEANING"
   ]
  },
  {
   "cell_type": "code",
   "execution_count": 35,
   "id": "9bbe4fad",
   "metadata": {},
   "outputs": [
    {
     "data": {
      "application/vnd.microsoft.datawrangler.viewer.v0+json": {
       "columns": [
        {
         "name": "index",
         "rawType": "int64",
         "type": "integer"
        },
        {
         "name": "Date",
         "rawType": "datetime64[ns]",
         "type": "datetime"
        },
        {
         "name": "Model Name",
         "rawType": "object",
         "type": "string"
        },
        {
         "name": "Net Sales",
         "rawType": "float64",
         "type": "float"
        },
        {
         "name": "Fans Gained",
         "rawType": "float64",
         "type": "float"
        },
        {
         "name": "Agency",
         "rawType": "object",
         "type": "string"
        }
       ],
       "ref": "0e4eb4ba-2c13-42b1-bd38-87b40a4f4db5",
       "rows": [
        [
         "0",
         "2025-01-01 00:00:00",
         "Model 15",
         "3804.19",
         "535.0",
         "R"
        ],
        [
         "1",
         "2025-01-01 00:00:00",
         "Model 5",
         "2098.22",
         "169.0",
         "R"
        ],
        [
         "2",
         "2025-01-01 00:00:00",
         "Model 6",
         "1984.68",
         "349.0",
         "R"
        ],
        [
         "3",
         "2025-01-01 00:00:00",
         "Model 9",
         "115.94",
         "28.0",
         "R"
        ],
        [
         "4",
         "2025-01-01 00:00:00",
         "Model 10",
         "766.83",
         "120.0",
         "R"
        ]
       ],
       "shape": {
        "columns": 5,
        "rows": 5
       }
      },
      "text/html": [
       "<div>\n",
       "<style scoped>\n",
       "    .dataframe tbody tr th:only-of-type {\n",
       "        vertical-align: middle;\n",
       "    }\n",
       "\n",
       "    .dataframe tbody tr th {\n",
       "        vertical-align: top;\n",
       "    }\n",
       "\n",
       "    .dataframe thead th {\n",
       "        text-align: right;\n",
       "    }\n",
       "</style>\n",
       "<table border=\"1\" class=\"dataframe\">\n",
       "  <thead>\n",
       "    <tr style=\"text-align: right;\">\n",
       "      <th></th>\n",
       "      <th>Date</th>\n",
       "      <th>Model Name</th>\n",
       "      <th>Net Sales</th>\n",
       "      <th>Fans Gained</th>\n",
       "      <th>Agency</th>\n",
       "    </tr>\n",
       "  </thead>\n",
       "  <tbody>\n",
       "    <tr>\n",
       "      <th>0</th>\n",
       "      <td>2025-01-01</td>\n",
       "      <td>Model 15</td>\n",
       "      <td>3804.19</td>\n",
       "      <td>535.0</td>\n",
       "      <td>R</td>\n",
       "    </tr>\n",
       "    <tr>\n",
       "      <th>1</th>\n",
       "      <td>2025-01-01</td>\n",
       "      <td>Model 5</td>\n",
       "      <td>2098.22</td>\n",
       "      <td>169.0</td>\n",
       "      <td>R</td>\n",
       "    </tr>\n",
       "    <tr>\n",
       "      <th>2</th>\n",
       "      <td>2025-01-01</td>\n",
       "      <td>Model 6</td>\n",
       "      <td>1984.68</td>\n",
       "      <td>349.0</td>\n",
       "      <td>R</td>\n",
       "    </tr>\n",
       "    <tr>\n",
       "      <th>3</th>\n",
       "      <td>2025-01-01</td>\n",
       "      <td>Model 9</td>\n",
       "      <td>115.94</td>\n",
       "      <td>28.0</td>\n",
       "      <td>R</td>\n",
       "    </tr>\n",
       "    <tr>\n",
       "      <th>4</th>\n",
       "      <td>2025-01-01</td>\n",
       "      <td>Model 10</td>\n",
       "      <td>766.83</td>\n",
       "      <td>120.0</td>\n",
       "      <td>R</td>\n",
       "    </tr>\n",
       "  </tbody>\n",
       "</table>\n",
       "</div>"
      ],
      "text/plain": [
       "        Date Model Name  Net Sales  Fans Gained Agency\n",
       "0 2025-01-01   Model 15    3804.19        535.0      R\n",
       "1 2025-01-01    Model 5    2098.22        169.0      R\n",
       "2 2025-01-01    Model 6    1984.68        349.0      R\n",
       "3 2025-01-01    Model 9     115.94         28.0      R\n",
       "4 2025-01-01   Model 10     766.83        120.0      R"
      ]
     },
     "execution_count": 35,
     "metadata": {},
     "output_type": "execute_result"
    }
   ],
   "source": [
    "\n",
    "#Transform 'Net Sales' column to numeric\n",
    "df['Net Sales'] = df['Net Sales'].replace({'\\$': '', ',': ''}, regex=True).astype(float)\n",
    "df['Net Sales'] = df['Net Sales'].fillna(0)\n",
    "\n",
    "df['Date'] = pd.to_datetime(df['Date'], format='%Y-%m-%d', errors='coerce')\n",
    "\n",
    "\n",
    "df.head()"
   ]
  },
  {
   "cell_type": "markdown",
   "id": "5d21e06b",
   "metadata": {},
   "source": [
    "### 4. ANALYSIS OF GENERAL DATA"
   ]
  },
  {
   "cell_type": "markdown",
   "id": "ad0b5213",
   "metadata": {},
   "source": [
    "### 4.1. Models Performance Evaluation (Net Sales and Fans Growth)"
   ]
  },
  {
   "cell_type": "code",
   "execution_count": 36,
   "id": "7ec66418",
   "metadata": {},
   "outputs": [
    {
     "data": {
      "image/png": "[encoded data removed]",
      "text/plain": [
       "<Figure size 1200x600 with 2 Axes>"
      ]
     },
     "metadata": {},
     "output_type": "display_data"
    }
   ],
   "source": [
    "#######################################################################################################\n",
    "# GROUPING AND COMPARISON OF MODEL PERFORMANCE\n",
    "#######################################################################################################\n",
    "\n",
    "# Definir los períodos\n",
    "period1_start = '2025-02-17'\n",
    "period1_end = '2025-02-23'\n",
    "period2_start = '2025-02-24'\n",
    "period2_end = '2025-03-02'\n",
    "\n",
    "# Filtrar datos para cada período\n",
    "period1 = df[(df['Date'] >= period1_start) & (df['Date'] <= period1_end)]\n",
    "period2 = df[(df['Date'] >= period2_start) & (df['Date'] <= period2_end)]\n",
    "\n",
    "# Agrupar por modelo y sumar métricas para cada período\n",
    "grouped_p1 = period1.groupby('Model Name').agg({'Net Sales': 'sum', 'Fans Gained': 'sum'})\n",
    "grouped_p2 = period2.groupby('Model Name').agg({'Net Sales': 'sum', 'Fans Gained': 'sum'})\n",
    "\n",
    "# Calcular diferencias entre períodos\n",
    "comparison = grouped_p2 - grouped_p1\n",
    "comparison.columns = ['Net Sales Growth', 'Fans Growth']\n",
    "\n",
    "# Filtrar modelos con crecimiento positivo en ambas métricas\n",
    "positive_trend_models = comparison[(comparison['Net Sales Growth'] > 0) & (comparison['Fans Growth'] > 0)]\n",
    "positive_trend_models = positive_trend_models.sort_values('Net Sales Growth', ascending=False)\n",
    "\n",
    "# Visualización\n",
    "plt.figure(figsize=(12, 6))\n",
    "for model in positive_trend_models.index:\n",
    "    sales = [grouped_p1.loc[model, 'Net Sales'], grouped_p2.loc[model, 'Net Sales']]\n",
    "    fans = [grouped_p1.loc[model, 'Fans Gained'], grouped_p2.loc[model, 'Fans Gained']]\n",
    "    \n",
    "    plt.subplot(1, 2, 1)\n",
    "    plt.plot(['Semana 1', 'Semana 2'], sales, label=model)\n",
    "    plt.title('Crecimiento de Ingresos')\n",
    "    plt.ylabel('Net Sales ($)')\n",
    "    \n",
    "    plt.subplot(1, 2, 2)\n",
    "    plt.plot(['Semana 1', 'Semana 2'], fans, label=model)\n",
    "    plt.title('Crecimiento de Fans')\n",
    "    plt.ylabel('Fans Gained')\n",
    "\n",
    "plt.legend(bbox_to_anchor=(1.05, 1), loc='upper left')\n",
    "plt.tight_layout()\n",
    "plt.show()"
   ]
  },
  {
   "cell_type": "markdown",
   "id": "af1f1e11",
   "metadata": {},
   "source": [
    "Models in this graph represent those with a positive trend in both variables. New Model 5 is a hit..."
   ]
  },
  {
   "cell_type": "code",
   "execution_count": 37,
   "id": "1aad1ae8",
   "metadata": {},
   "outputs": [
    {
     "data": {
      "application/vnd.microsoft.datawrangler.viewer.v0+json": {
       "columns": [
        {
         "name": "Model Name",
         "rawType": "object",
         "type": "string"
        },
        {
         "name": "Net Sales Growth",
         "rawType": "float64",
         "type": "float"
        },
        {
         "name": "Fans Growth",
         "rawType": "float64",
         "type": "float"
        },
        {
         "name": "Positive Trend",
         "rawType": "bool",
         "type": "boolean"
        }
       ],
       "ref": "645f7e5f-5e96-48f4-8176-486d5a7e0067",
       "rows": [
        [
         "Model 1",
         "535.48",
         "211.0",
         "True"
        ],
        [
         "Model 10",
         "-907.7699999999995",
         "352.0",
         "False"
        ],
        [
         "Model 11",
         "-3115.2000000000007",
         "85.0",
         "False"
        ],
        [
         "Model 12",
         "755.2000000000007",
         "33.0",
         "True"
        ],
        [
         "Model 13",
         "64.24999999999909",
         "512.0",
         "True"
        ],
        [
         "Model 14",
         "1148.04",
         "67.0",
         "True"
        ],
        [
         "Model 15",
         "-1655.9399999999987",
         "426.0",
         "False"
        ],
        [
         "Model 16",
         "-6944.169999999999",
         "-115.0",
         "False"
        ],
        [
         "Model 17",
         "-995.8500000000004",
         "-306.0",
         "False"
        ],
        [
         "Model 18",
         "15232.710000000003",
         "-215.0",
         "False"
        ],
        [
         "Model 19",
         "1022.9699999999993",
         "660.0",
         "True"
        ],
        [
         "Model 2",
         "1160.5100000000002",
         "688.0",
         "True"
        ],
        [
         "Model 20",
         "525.7199999999993",
         "-331.0",
         "False"
        ],
        [
         "Model 21",
         "298.0500000000011",
         "61.0",
         "True"
        ],
        [
         "Model 22",
         "518.3900000000003",
         "-50.0",
         "False"
        ],
        [
         "Model 23",
         "-393.5500000000011",
         "156.0",
         "False"
        ],
        [
         "Model 24",
         "-1303.5099999999984",
         "-46.0",
         "False"
        ],
        [
         "Model 25",
         "-1.900000000000091",
         "-1.0",
         "False"
        ],
        [
         "Model 26",
         "-1044.2800000000025",
         "-7.0",
         "False"
        ],
        [
         "Model 27",
         "135.32999999999993",
         "-161.0",
         "False"
        ],
        [
         "Model 28",
         "2932.8099999999995",
         "54.0",
         "True"
        ],
        [
         "Model 29",
         "-2107.79",
         "-721.0",
         "False"
        ],
        [
         "Model 3",
         "1473.33",
         "45.0",
         "True"
        ],
        [
         "Model 30",
         "-3097.9300000000003",
         "45.0",
         "False"
        ],
        [
         "Model 31",
         "-4515.360000000004",
         "-77.0",
         "False"
        ],
        [
         "Model 32",
         "3386.3099999999995",
         "26.0",
         "True"
        ],
        [
         "Model 33",
         "-3624.0800000000017",
         "-606.0",
         "False"
        ],
        [
         "Model 34",
         "-89.66000000000076",
         "-225.0",
         "False"
        ],
        [
         "Model 35",
         "-719.74",
         "54.0",
         "False"
        ],
        [
         "Model 36",
         "678.3000000000002",
         "392.0",
         "True"
        ],
        [
         "Model 4",
         "3214.249999999999",
         "360.0",
         "True"
        ],
        [
         "Model 5",
         "-275.2600000000002",
         "0.0",
         "False"
        ],
        [
         "Model 6",
         "-562.5799999999981",
         "-218.0",
         "False"
        ],
        [
         "Model 7",
         "739.6600000000001",
         "339.0",
         "True"
        ],
        [
         "Model 8",
         "-1622.5",
         "-269.0",
         "False"
        ],
        [
         "Model 9",
         "359.47",
         "-35.0",
         "False"
        ],
        [
         "New Model 2",
         "-1898.2400000000016",
         "1.0",
         "False"
        ],
        [
         "New Model 4",
         "415.4499999999998",
         "315.0",
         "True"
        ],
        [
         "New Model 5",
         "3125.4799999999996",
         "962.0",
         "True"
        ]
       ],
       "shape": {
        "columns": 3,
        "rows": 39
       }
      },
      "text/html": [
       "<div>\n",
       "<style scoped>\n",
       "    .dataframe tbody tr th:only-of-type {\n",
       "        vertical-align: middle;\n",
       "    }\n",
       "\n",
       "    .dataframe tbody tr th {\n",
       "        vertical-align: top;\n",
       "    }\n",
       "\n",
       "    .dataframe thead th {\n",
       "        text-align: right;\n",
       "    }\n",
       "</style>\n",
       "<table border=\"1\" class=\"dataframe\">\n",
       "  <thead>\n",
       "    <tr style=\"text-align: right;\">\n",
       "      <th></th>\n",
       "      <th>Net Sales Growth</th>\n",
       "      <th>Fans Growth</th>\n",
       "      <th>Positive Trend</th>\n",
       "    </tr>\n",
       "    <tr>\n",
       "      <th>Model Name</th>\n",
       "      <th></th>\n",
       "      <th></th>\n",
       "      <th></th>\n",
       "    </tr>\n",
       "  </thead>\n",
       "  <tbody>\n",
       "    <tr>\n",
       "      <th>Model 1</th>\n",
       "      <td>535.48</td>\n",
       "      <td>211.0</td>\n",
       "      <td>True</td>\n",
       "    </tr>\n",
       "    <tr>\n",
       "      <th>Model 10</th>\n",
       "      <td>-907.77</td>\n",
       "      <td>352.0</td>\n",
       "      <td>False</td>\n",
       "    </tr>\n",
       "    <tr>\n",
       "      <th>Model 11</th>\n",
       "      <td>-3115.20</td>\n",
       "      <td>85.0</td>\n",
       "      <td>False</td>\n",
       "    </tr>\n",
       "    <tr>\n",
       "      <th>Model 12</th>\n",
       "      <td>755.20</td>\n",
       "      <td>33.0</td>\n",
       "      <td>True</td>\n",
       "    </tr>\n",
       "    <tr>\n",
       "      <th>Model 13</th>\n",
       "      <td>64.25</td>\n",
       "      <td>512.0</td>\n",
       "      <td>True</td>\n",
       "    </tr>\n",
       "    <tr>\n",
       "      <th>Model 14</th>\n",
       "      <td>1148.04</td>\n",
       "      <td>67.0</td>\n",
       "      <td>True</td>\n",
       "    </tr>\n",
       "    <tr>\n",
       "      <th>Model 15</th>\n",
       "      <td>-1655.94</td>\n",
       "      <td>426.0</td>\n",
       "      <td>False</td>\n",
       "    </tr>\n",
       "    <tr>\n",
       "      <th>Model 16</th>\n",
       "      <td>-6944.17</td>\n",
       "      <td>-115.0</td>\n",
       "      <td>False</td>\n",
       "    </tr>\n",
       "    <tr>\n",
       "      <th>Model 17</th>\n",
       "      <td>-995.85</td>\n",
       "      <td>-306.0</td>\n",
       "      <td>False</td>\n",
       "    </tr>\n",
       "    <tr>\n",
       "      <th>Model 18</th>\n",
       "      <td>15232.71</td>\n",
       "      <td>-215.0</td>\n",
       "      <td>False</td>\n",
       "    </tr>\n",
       "    <tr>\n",
       "      <th>Model 19</th>\n",
       "      <td>1022.97</td>\n",
       "      <td>660.0</td>\n",
       "      <td>True</td>\n",
       "    </tr>\n",
       "    <tr>\n",
       "      <th>Model 2</th>\n",
       "      <td>1160.51</td>\n",
       "      <td>688.0</td>\n",
       "      <td>True</td>\n",
       "    </tr>\n",
       "    <tr>\n",
       "      <th>Model 20</th>\n",
       "      <td>525.72</td>\n",
       "      <td>-331.0</td>\n",
       "      <td>False</td>\n",
       "    </tr>\n",
       "    <tr>\n",
       "      <th>Model 21</th>\n",
       "      <td>298.05</td>\n",
       "      <td>61.0</td>\n",
       "      <td>True</td>\n",
       "    </tr>\n",
       "    <tr>\n",
       "      <th>Model 22</th>\n",
       "      <td>518.39</td>\n",
       "      <td>-50.0</td>\n",
       "      <td>False</td>\n",
       "    </tr>\n",
       "    <tr>\n",
       "      <th>Model 23</th>\n",
       "      <td>-393.55</td>\n",
       "      <td>156.0</td>\n",
       "      <td>False</td>\n",
       "    </tr>\n",
       "    <tr>\n",
       "      <th>Model 24</th>\n",
       "      <td>-1303.51</td>\n",
       "      <td>-46.0</td>\n",
       "      <td>False</td>\n",
       "    </tr>\n",
       "    <tr>\n",
       "      <th>Model 25</th>\n",
       "      <td>-1.90</td>\n",
       "      <td>-1.0</td>\n",
       "      <td>False</td>\n",
       "    </tr>\n",
       "    <tr>\n",
       "      <th>Model 26</th>\n",
       "      <td>-1044.28</td>\n",
       "      <td>-7.0</td>\n",
       "      <td>False</td>\n",
       "    </tr>\n",
       "    <tr>\n",
       "      <th>Model 27</th>\n",
       "      <td>135.33</td>\n",
       "      <td>-161.0</td>\n",
       "      <td>False</td>\n",
       "    </tr>\n",
       "    <tr>\n",
       "      <th>Model 28</th>\n",
       "      <td>2932.81</td>\n",
       "      <td>54.0</td>\n",
       "      <td>True</td>\n",
       "    </tr>\n",
       "    <tr>\n",
       "      <th>Model 29</th>\n",
       "      <td>-2107.79</td>\n",
       "      <td>-721.0</td>\n",
       "      <td>False</td>\n",
       "    </tr>\n",
       "    <tr>\n",
       "      <th>Model 3</th>\n",
       "      <td>1473.33</td>\n",
       "      <td>45.0</td>\n",
       "      <td>True</td>\n",
       "    </tr>\n",
       "    <tr>\n",
       "      <th>Model 30</th>\n",
       "      <td>-3097.93</td>\n",
       "      <td>45.0</td>\n",
       "      <td>False</td>\n",
       "    </tr>\n",
       "    <tr>\n",
       "      <th>Model 31</th>\n",
       "      <td>-4515.36</td>\n",
       "      <td>-77.0</td>\n",
       "      <td>False</td>\n",
       "    </tr>\n",
       "    <tr>\n",
       "      <th>Model 32</th>\n",
       "      <td>3386.31</td>\n",
       "      <td>26.0</td>\n",
       "      <td>True</td>\n",
       "    </tr>\n",
       "    <tr>\n",
       "      <th>Model 33</th>\n",
       "      <td>-3624.08</td>\n",
       "      <td>-606.0</td>\n",
       "      <td>False</td>\n",
       "    </tr>\n",
       "    <tr>\n",
       "      <th>Model 34</th>\n",
       "      <td>-89.66</td>\n",
       "      <td>-225.0</td>\n",
       "      <td>False</td>\n",
       "    </tr>\n",
       "    <tr>\n",
       "      <th>Model 35</th>\n",
       "      <td>-719.74</td>\n",
       "      <td>54.0</td>\n",
       "      <td>False</td>\n",
       "    </tr>\n",
       "    <tr>\n",
       "      <th>Model 36</th>\n",
       "      <td>678.30</td>\n",
       "      <td>392.0</td>\n",
       "      <td>True</td>\n",
       "    </tr>\n",
       "    <tr>\n",
       "      <th>Model 4</th>\n",
       "      <td>3214.25</td>\n",
       "      <td>360.0</td>\n",
       "      <td>True</td>\n",
       "    </tr>\n",
       "    <tr>\n",
       "      <th>Model 5</th>\n",
       "      <td>-275.26</td>\n",
       "      <td>0.0</td>\n",
       "      <td>False</td>\n",
       "    </tr>\n",
       "    <tr>\n",
       "      <th>Model 6</th>\n",
       "      <td>-562.58</td>\n",
       "      <td>-218.0</td>\n",
       "      <td>False</td>\n",
       "    </tr>\n",
       "    <tr>\n",
       "      <th>Model 7</th>\n",
       "      <td>739.66</td>\n",
       "      <td>339.0</td>\n",
       "      <td>True</td>\n",
       "    </tr>\n",
       "    <tr>\n",
       "      <th>Model 8</th>\n",
       "      <td>-1622.50</td>\n",
       "      <td>-269.0</td>\n",
       "      <td>False</td>\n",
       "    </tr>\n",
       "    <tr>\n",
       "      <th>Model 9</th>\n",
       "      <td>359.47</td>\n",
       "      <td>-35.0</td>\n",
       "      <td>False</td>\n",
       "    </tr>\n",
       "    <tr>\n",
       "      <th>New Model 2</th>\n",
       "      <td>-1898.24</td>\n",
       "      <td>1.0</td>\n",
       "      <td>False</td>\n",
       "    </tr>\n",
       "    <tr>\n",
       "      <th>New Model 4</th>\n",
       "      <td>415.45</td>\n",
       "      <td>315.0</td>\n",
       "      <td>True</td>\n",
       "    </tr>\n",
       "    <tr>\n",
       "      <th>New Model 5</th>\n",
       "      <td>3125.48</td>\n",
       "      <td>962.0</td>\n",
       "      <td>True</td>\n",
       "    </tr>\n",
       "  </tbody>\n",
       "</table>\n",
       "</div>"
      ],
      "text/plain": [
       "             Net Sales Growth  Fans Growth  Positive Trend\n",
       "Model Name                                                \n",
       "Model 1                535.48        211.0            True\n",
       "Model 10              -907.77        352.0           False\n",
       "Model 11             -3115.20         85.0           False\n",
       "Model 12               755.20         33.0            True\n",
       "Model 13                64.25        512.0            True\n",
       "Model 14              1148.04         67.0            True\n",
       "Model 15             -1655.94        426.0           False\n",
       "Model 16             -6944.17       -115.0           False\n",
       "Model 17              -995.85       -306.0           False\n",
       "Model 18             15232.71       -215.0           False\n",
       "Model 19              1022.97        660.0            True\n",
       "Model 2               1160.51        688.0            True\n",
       "Model 20               525.72       -331.0           False\n",
       "Model 21               298.05         61.0            True\n",
       "Model 22               518.39        -50.0           False\n",
       "Model 23              -393.55        156.0           False\n",
       "Model 24             -1303.51        -46.0           False\n",
       "Model 25                -1.90         -1.0           False\n",
       "Model 26             -1044.28         -7.0           False\n",
       "Model 27               135.33       -161.0           False\n",
       "Model 28              2932.81         54.0            True\n",
       "Model 29             -2107.79       -721.0           False\n",
       "Model 3               1473.33         45.0            True\n",
       "Model 30             -3097.93         45.0           False\n",
       "Model 31             -4515.36        -77.0           False\n",
       "Model 32              3386.31         26.0            True\n",
       "Model 33             -3624.08       -606.0           False\n",
       "Model 34               -89.66       -225.0           False\n",
       "Model 35              -719.74         54.0           False\n",
       "Model 36               678.30        392.0            True\n",
       "Model 4               3214.25        360.0            True\n",
       "Model 5               -275.26          0.0           False\n",
       "Model 6               -562.58       -218.0           False\n",
       "Model 7                739.66        339.0            True\n",
       "Model 8              -1622.50       -269.0           False\n",
       "Model 9                359.47        -35.0           False\n",
       "New Model 2          -1898.24          1.0           False\n",
       "New Model 4            415.45        315.0            True\n",
       "New Model 5           3125.48        962.0            True"
      ]
     },
     "execution_count": 37,
     "metadata": {},
     "output_type": "execute_result"
    }
   ],
   "source": [
    "comparison.dropna(inplace=True)\n",
    "comparison['Positive Trend'] = (comparison['Net Sales Growth'] > 0) & (comparison['Fans Growth'] > 0)\n",
    "comparison"
   ]
  },
  {
   "cell_type": "markdown",
   "id": "6fdee832",
   "metadata": {},
   "source": [
    "### 4.2. New Models vs. Existing Models"
   ]
  },
  {
   "cell_type": "code",
   "execution_count": 38,
   "id": "d5e1e0b0",
   "metadata": {},
   "outputs": [
    {
     "name": "stdout",
     "output_type": "stream",
     "text": [
      "=== Basic Statistics ===\n",
      "New Models:\n",
      "          Net Sales  Fans Gained\n",
      "count   115.000000   114.000000\n",
      "mean   1026.365913   134.377193\n",
      "std     764.510515   188.727335\n",
      "min       0.000000     0.000000\n",
      "25%     494.270000    30.000000\n",
      "50%     820.810000    63.000000\n",
      "75%    1275.630000   134.500000\n",
      "max    3525.250000   882.000000\n",
      "\n",
      "Existing Models:\n",
      "          Net Sales  Fans Gained\n",
      "count  2318.000000  2176.000000\n",
      "mean   1356.317748   166.765625\n",
      "std    1307.034369   183.744336\n",
      "min       0.000000     0.000000\n",
      "25%     522.467500    52.000000\n",
      "50%    1003.495000   120.000000\n",
      "75%    1710.617500   237.250000\n",
      "max    8437.560000  4965.000000\n",
      "\n",
      "=== T-Test Results ===\n",
      "Net Sales - t-stat: -4.33, p-value: 0.0000\n",
      "Fans Gained - t-stat: -1.79, p-value: 0.0761\n",
      "\n",
      "Interpretation for Net Sales:\n",
      "- The difference in Net Sales between new and existing models IS statistically significant (p = 0.0000)\n",
      "- New models have lower average Net Sales (t = -4.33)\n",
      "\n",
      "Interpretation for Fans Gained:\n",
      "- The difference in Fans Gained between new and existing models IS NOT statistically significant (p = 0.0761)\n"
     ]
    }
   ],
   "source": [
    "###################################################################################################################\n",
    "# T-test for comparing means of two independent samples (Existing Model vs New Model)\n",
    "###################################################################################################################\n",
    "\n",
    "\n",
    "# Clean Net Sales column if it contains $ and commas\n",
    "if df['Net Sales'].dtype == object:\n",
    "    df['Net Sales'] = df['Net Sales'].str.replace('$', '').str.replace(',', '').astype(float)\n",
    "\n",
    "# Create boolean mask for new models (handle NaN values in Model Name)\n",
    "df['Is New'] = df['Model Name'].notna() & df['Model Name'].str.startswith('New Model', na=False)\n",
    "\n",
    "# Calculate basic statistics separately (with proper NaN handling)\n",
    "new_stats = df.loc[df['Is New'], ['Net Sales', 'Fans Gained']].describe()\n",
    "existing_stats = df.loc[~df['Is New'], ['Net Sales', 'Fans Gained']].describe()\n",
    "\n",
    "# Perform t-tests with proper NaN handling and equal_var=False for unequal sample sizes\n",
    "def safe_ttest(group1, group2):\n",
    "    \"\"\"Handle t-test with NaN removal and unequal sample sizes\"\"\"\n",
    "    group1_clean = group1.dropna()\n",
    "    group2_clean = group2.dropna()\n",
    "    if len(group1_clean) == 0 or len(group2_clean) == 0:\n",
    "        return (np.nan, np.nan)\n",
    "    return ttest_ind(group1_clean, group2_clean, equal_var=False)\n",
    "\n",
    "# Get the groups\n",
    "new_models = df[df['Is New']]\n",
    "existing_models = df[~df['Is New']]\n",
    "\n",
    "# Perform tests\n",
    "t_stat_sales, p_val_sales = safe_ttest(new_models['Net Sales'], existing_models['Net Sales'])\n",
    "t_stat_fans, p_val_fans = safe_ttest(new_models['Fans Gained'], existing_models['Fans Gained'])\n",
    "\n",
    "# Print results with interpretation\n",
    "print(\"=== Basic Statistics ===\")\n",
    "print(\"New Models:\\n\", new_stats)\n",
    "print(\"\\nExisting Models:\\n\", existing_stats)\n",
    "\n",
    "print(\"\\n=== T-Test Results ===\")\n",
    "print(f\"Net Sales - t-stat: {t_stat_sales:.2f}, p-value: {p_val_sales:.4f}\")\n",
    "print(f\"Fans Gained - t-stat: {t_stat_fans:.2f}, p-value: {p_val_fans:.4f}\")\n",
    "\n",
    "# Automatic interpretation\n",
    "def interpret_test(metric, t_stat, p_val):\n",
    "    if np.isnan(t_stat) or np.isnan(p_val):\n",
    "        print(f\"\\nCould not perform test for {metric} - insufficient valid data\")\n",
    "        return\n",
    "    \n",
    "    significance = \"IS\" if p_val < 0.05 else \"IS NOT\"\n",
    "    direction = \"higher\" if t_stat > 0 else \"lower\"\n",
    "    print(f\"\\nInterpretation for {metric}:\")\n",
    "    print(f\"- The difference in {metric} between new and existing models {significance} statistically significant (p = {p_val:.4f})\")\n",
    "    if p_val < 0.05:\n",
    "        print(f\"- New models have {direction} average {metric} (t = {t_stat:.2f})\")\n",
    "\n",
    "interpret_test(\"Net Sales\", t_stat_sales, p_val_sales)\n",
    "interpret_test(\"Fans Gained\", t_stat_fans, p_val_fans)"
   ]
  },
  {
   "cell_type": "markdown",
   "id": "3fc74712",
   "metadata": {},
   "source": [
    "The results indicate that there is no difference in both groups of models for fans gaining, but for Net sales there are a significant difference, so, new models need to be more efficients in order to improve the sales."
   ]
  },
  {
   "cell_type": "markdown",
   "id": "f2771f05",
   "metadata": {},
   "source": [
    "### 4.3. Data-Driven Approach to Key Challenges"
   ]
  },
  {
   "cell_type": "markdown",
   "id": "0f977fbf",
   "metadata": {},
   "source": [
    "Challenge 1: Managing Unresponsive Fans\n",
    "Data-Driven Solutions:\n",
    "\n",
    "Engagement Segmentation\n",
    "\n",
    "Calculate response rates (e.g., messages replied to vs. ignored) per fan/model.\n",
    "\n",
    "- Use clustering (e.g., K-means) to group fans into segments:\n",
    "\n",
    "        Active: High response rate, frequent interactions\n",
    "\n",
    "        Passive: Low response rate but occasional engagement\n",
    "\n",
    "        Inactive: No response despite outreach"
   ]
  },
  {
   "cell_type": "code",
   "execution_count": 39,
   "id": "19ac5ba9",
   "metadata": {},
   "outputs": [],
   "source": [
    "# Example: Segment fans by response rate (if response data exists)\n",
    "#from sklearn.cluster import KMeans\n",
    "#fan_data = df.groupby('Fan ID').agg({'Response_Rate': 'mean', 'Interaction_Count': 'sum'}).dropna()\n",
    "#kmeans = KMeans(n_clusters=3).fit(fan_data)\n",
    "#fan_data['Segment'] = kmeans.labels_"
   ]
  },
  {
   "cell_type": "markdown",
   "id": "5b7b6272",
   "metadata": {},
   "source": [
    "Challenge 2: Handling Pricing Objections\n",
    "\n",
    "Price Sensitivity Analysis\n",
    "\n",
    "A) Calculate elasticity: % change in fan conversions vs. % change in pricing tiers.\n",
    "\n",
    "    Identify \"sweet spots\" where revenue and fan growth are balanced."
   ]
  },
  {
   "cell_type": "code",
   "execution_count": 40,
   "id": "ea43d522",
   "metadata": {},
   "outputs": [],
   "source": [
    "# Example: Elasticity approximation (if tiered pricing exists)\n",
    "#price_tiers = df.groupby('Price_Tier').agg({'Net Sales': 'sum', 'Fans_Gained': 'sum'})\n",
    "#price_tiers['Sales_per_Fan'] = price_tiers['Net Sales'] / price_tiers['Fans_Gained']"
   ]
  },
  {
   "cell_type": "markdown",
   "id": "c5c4f7b5",
   "metadata": {},
   "source": [
    "B) A/B Testing for Pricing: Test small price adjustments (e.g., ±10%) on similar audience segments. Measure impact on conversion rates and revenue.\n",
    "\n",
    "Dynamic Pricing Models: Use ML (e.g., regression, classification (if data is labeled)) to recommend optimal prices per fan segment:\n",
    "\n",
    "High-engagement fans: Premium pricing (less price-sensitive).\n",
    "\n",
    "New fans: Discounted trials to reduce objections."
   ]
  }
 ],
 "metadata": {
  "kernelspec": {
   "display_name": "Maestro_Yoda",
   "language": "python",
   "name": "python3"
  },
  "language_info": {
   "codemirror_mode": {
    "name": "ipython",
    "version": 3
   },
   "file_extension": ".py",
   "mimetype": "text/x-python",
   "name": "python",
   "nbconvert_exporter": "python",
   "pygments_lexer": "ipython3",
   "version": "3.10.11"
  }
 },
 "nbformat": 4,
 "nbformat_minor": 5
}
